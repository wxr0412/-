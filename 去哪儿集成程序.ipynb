{
 "cells": [
  {
   "cell_type": "code",
   "execution_count": 23,
   "metadata": {},
   "outputs": [],
   "source": [
    "import sys\n",
    "import time\n",
    "from selenium import webdriver\n",
    "from selenium.webdriver.common.by import By\n",
    "from selenium.webdriver.common.keys import Keys #这个包是用来模拟键盘输入的\n",
    "from time import sleep\n",
    "import pandas as pd\n",
    "from selenium.webdriver.chrome.options import Options\n",
    "from selenium.webdriver.support import expected_conditions as ec\n",
    "from selenium.webdriver.support.ui import WebDriverWait\n",
    "import pyexcel\n"
   ]
  },
  {
   "cell_type": "code",
   "execution_count": 44,
   "metadata": {},
   "outputs": [
    {
     "name": "stderr",
     "output_type": "stream",
     "text": [
      "/var/folders/zs/fx_2z2p958g76_7y7tn94xp80000gn/T/ipykernel_76753/2894095694.py:19: DeprecationWarning: find_element_by_xpath is deprecated. Please use find_element(by=By.XPATH, value=xpath) instead\n",
      "  dest=driver.find_element_by_xpath('//input[@name=\"toCity\"]')\n",
      "/var/folders/zs/fx_2z2p958g76_7y7tn94xp80000gn/T/ipykernel_76753/2894095694.py:29: DeprecationWarning: find_element_by_xpath is deprecated. Please use find_element(by=By.XPATH, value=xpath) instead\n",
      "  driver.find_element_by_xpath('.//div[@class=\"intercept-pop\"]/div[@class=\"btn-box\"]').click()\n"
     ]
    },
    {
     "name": "stdout",
     "output_type": "stream",
     "text": [
      "假的完成\n"
     ]
    }
   ],
   "source": [
    "#集成程序\n",
    "\n",
    "opt=Options()\n",
    "opt.add_experimental_option('excludeSwitches',['enable-automation'])\n",
    "driver = webdriver.Chrome(options=opt)\n",
    "#下面的代码脚本使打开网页前，window.navigator.webdriver赋值为undefined\n",
    "#如果不这么操作，webdriver的赋值为true，就会导致去哪儿侦测到webdriver,然后爬虫失败，无法加载.\n",
    "#方法来源:https://www.cnblogs.com/presleyren/p/12936553.html\n",
    "driver.execute_cdp_cmd(\"Page.addScriptToEvaluateOnNewDocument\", {\n",
    "  \"source\": \"\"\"\n",
    "    Object.defineProperty(navigator, 'webdriver', {\n",
    "      get: () => undefined\n",
    "    })\n",
    "  \"\"\"\n",
    "})\n",
    "driver.get('https://flight.qunar.com')#这行代码一定要和上面的赋值代码在同一个框内执行\n",
    "sleep(2)\n",
    "\n",
    "dest=driver.find_element_by_xpath('//input[@name=\"toCity\"]')\n",
    "dest.send_keys('成都')\n",
    "sleep(1)\n",
    "\n",
    "dest.send_keys(Keys.RETURN)\n",
    "dest.send_keys(Keys.RETURN)\n",
    "#\n",
    "try:\n",
    "    WebDriverWait(driver,2).until(\n",
    "        ec.element_to_be_clickable((By.XPATH,'.//div[@class=\"intercept-pop\"]/div[@class=\"btn-box\"]')),\n",
    "        driver.find_element_by_xpath('.//div[@class=\"intercept-pop\"]/div[@class=\"btn-box\"]').click()\n",
    "    )\n",
    "except BaseException:\n",
    "    print(\"假的完成\")\n",
    "else:\n",
    "    print(\"真的完成\")"
   ]
  },
  {
   "cell_type": "code",
   "execution_count": 46,
   "metadata": {},
   "outputs": [
    {
     "name": "stderr",
     "output_type": "stream",
     "text": [
      "/var/folders/zs/fx_2z2p958g76_7y7tn94xp80000gn/T/ipykernel_76753/1711407577.py:19: DeprecationWarning: find_element_by_xpath is deprecated. Please use find_element(by=By.XPATH, value=xpath) instead\n",
      "  dest=driver.find_element_by_xpath('//input[@name=\"toCity\"]')\n",
      "/var/folders/zs/fx_2z2p958g76_7y7tn94xp80000gn/T/ipykernel_76753/1711407577.py:29: DeprecationWarning: find_element_by_xpath is deprecated. Please use find_element(by=By.XPATH, value=xpath) instead\n",
      "  driver.find_element_by_xpath('.//div[@class=\"intercept-pop\"]/div[@class=\"btn-box\"]').click()\n"
     ]
    }
   ],
   "source": [
    "#集成程序\n",
    "\n",
    "opt=Options()\n",
    "opt.add_experimental_option('excludeSwitches',['enable-automation'])\n",
    "driver = webdriver.Chrome(options=opt)\n",
    "#下面的代码脚本使打开网页前，window.navigator.webdriver赋值为undefined\n",
    "#如果不这么操作，webdriver的赋值为true，就会导致去哪儿侦测到webdriver,然后爬虫失败，无法加载.\n",
    "#方法来源:https://www.cnblogs.com/presleyren/p/12936553.html\n",
    "driver.execute_cdp_cmd(\"Page.addScriptToEvaluateOnNewDocument\", {\n",
    "  \"source\": \"\"\"\n",
    "    Object.defineProperty(navigator, 'webdriver', {\n",
    "      get: () => undefined\n",
    "    })\n",
    "  \"\"\"\n",
    "})\n",
    "driver.get('https://flight.qunar.com')#这行代码一定要和上面的赋值代码在同一个框内执行\n",
    "sleep(2)\n",
    "\n",
    "dest=driver.find_element_by_xpath('//input[@name=\"toCity\"]')\n",
    "dest.send_keys('成都')\n",
    "sleep(1)\n",
    "\n",
    "dest.send_keys(Keys.RETURN)\n",
    "dest.send_keys(Keys.RETURN)\n",
    "\n",
    "WebDriverWait(driver,10).until(\n",
    "    ec.presence_of_element_located((By.XPATH,'//div[@class=\"intercept-pop\"]/div[@class=\"btn-box\"]'))\n",
    "    )\n",
    "driver.find_element_by_xpath('.//div[@class=\"intercept-pop\"]/div[@class=\"btn-box\"]').click()"
   ]
  },
  {
   "cell_type": "markdown",
   "metadata": {},
   "source": []
  }
 ],
 "metadata": {
  "interpreter": {
   "hash": "7b34b089ce0dfc9935940e0a22050b2949fa617f7a2b73925623c261bed16aeb"
  },
  "kernelspec": {
   "display_name": "Python 3 (ipykernel)",
   "language": "python",
   "name": "python3"
  },
  "language_info": {
   "codemirror_mode": {
    "name": "ipython",
    "version": 3
   },
   "file_extension": ".py",
   "mimetype": "text/x-python",
   "name": "python",
   "nbconvert_exporter": "python",
   "pygments_lexer": "ipython3",
   "version": "3.8.0"
  }
 },
 "nbformat": 4,
 "nbformat_minor": 2
}
