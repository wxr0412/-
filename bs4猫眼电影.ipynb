{
 "cells": [
  {
   "cell_type": "code",
   "execution_count": 26,
   "id": "6cbc2ec8-8b99-49ea-8899-2f87f78f441c",
   "metadata": {},
   "outputs": [],
   "source": [
    "import requests\n",
    "from bs4 import BeautifulSoup   \n",
    "import pandas as pd"
   ]
  },
  {
   "cell_type": "code",
   "execution_count": 27,
   "id": "b7c50411-0dce-41f9-8c9e-f78913f31cd4",
   "metadata": {},
   "outputs": [],
   "source": [
    "url='https://www.maoyan.com/board/4?timeStamp=1647399909471&channelId=40011&index=2&signKey=1b7fd1ba48d6d78c4b9edc9515584049&sVersion=1&webdriver=false'\n",
    "headers={'User-Agent':'Mozilla/5.0 (Macintosh; Intel Mac OS X 10_15_7) AppleWebKit/537.36 (KHTML, like Gecko) Chrome/99.0.4844.51 Safari/537.36'\n",
    "        }"
   ]
  },
  {
   "cell_type": "code",
   "execution_count": 28,
   "id": "c5f8718f-7d1c-42f5-bb4b-a810498de8b3",
   "metadata": {},
   "outputs": [],
   "source": [
    "response=requests.get(url,headers=headers)\n",
    "content=response.content.decode('utf8')\n",
    "soup=BeautifulSoup(content,'lxml')"
   ]
  },
  {
   "cell_type": "code",
   "execution_count": 29,
   "id": "0f3cb69a-9165-45d7-9aef-7a8b204abf42",
   "metadata": {
    "tags": []
   },
   "outputs": [
    {
     "name": "stdout",
     "output_type": "stream",
     "text": [
      "<!DOCTYPE html>\n",
      "<html lang=\"en\">\n",
      " <head>\n",
      "  <meta charset=\"utf-8\"/>\n",
      "  <link href=\"//p0.meituan.net\" rel=\"dns-prefetch\"/>\n",
      "  <link href=\"//p1.meituan.net\" rel=\"dns-prefetch\"/>\n",
      "  <link href=\"//s3plus.meituan.net\" rel=\"dns-prefetch\"/>\n",
      "  <title>\n",
      "   猫眼验证中心\n",
      "  </title>\n",
      "  <meta content=\"猫眼验证中心\" name=\"keywords\"/>\n",
      "  <meta content=\"猫眼验证中心\" name=\"description\"/>\n",
      "  <meta content=\"mobile\" name=\"applicable-device\"/>\n",
      "  <meta content=\"width=device-width,initial-scale=1,user-scalable=no\" name=\"viewport\"/>\n",
      "  <meta content=\"telephone=no\" name=\"format-detection\"/>\n",
      "  <meta content=\"address=no\" name=\"format-detection\"/>\n",
      "  <meta content=\"maoyan.com\" name=\"for\"/>\n",
      "  <link href=\"https://e.pipi.cn/overseas/faviconmy.ico\" rel=\"icon\" type=\"image/x-icon\"/>\n",
      "  <script src=\"https://e.pipi.cn/overseas/polyfill.min.js\">\n",
      "  </script>\n",
      "  <script>\n",
      "   var AppData= {\"redirectURL\":\"https%3A%2F%2Fwww.maoyan.com%2Fboard%2F4%3FtimeStamp%3D1647399909471%26sVersion%3D1%26webdriver%3Dfalse%26index%3D2%26signKey%3D1b7fd1ba48d6d78c4b9edc9515584049%26channelId%3D40011\",\"domain\":\"www.maoyan.com\",\"project\":\"verify\",\"env\":\"prod\"}\n",
      "  </script>\n",
      "  <script crossorigin=\"anonymous\" src=\"//www.dpfile.com/app/owl/static/owl_latest.js\">\n",
      "  </script>\n",
      "  <script>\n",
      "   \"use strict\";!function(){var e=0<arguments.length&&void 0!==arguments[0]?arguments[0]:\"_Owl_\",t=window;t[e]||(t[e]={isRunning:!1,isReady:!1,preTasks:[],dataSet:[],pageData:[],disableMutaObserver:!1,observer:null,use:function(e,i){this.isReady&&t.Owl&&t.Owl[e](i),this.preTasks.push({api:e,data:[i]})},add:function(e){this.dataSet.push(e)},run:function(){var e=this;if(!this.isRunning){this.isRunning=!0;var i=t.onerror;t.onerror=function(){this.isReady||this.add({type:\"jsError\",data:arguments}),i&&i.apply(t,arguments)}.bind(this),(t.addEventListener||t.attachEvent)(\"error\",(function(t){e.isReady||e.add({type:\"resError\",data:[t]})}),!0);var r=window.MutationObserver||window.WebKitMutationObserver||window.MozMutationObserver,n=window.performance||window.WebKitPerformance;if(r&&n){var s=-1,a=window.navigator.userAgent;if(-1<a.indexOf(\"compatible\")&&-1<a.indexOf(\"MSIE\")?(new RegExp(\"MSIE (\\\\d+\\\\.\\\\d+);\").test(a),s=parseFloat(RegExp.$1)):-1<a.indexOf(\"Trident\")&&-1<a.indexOf(\"rv:11.0\")&&(s=11),-1!==s&&s<=11)return void(this.disableMutaObserver=!0);try{this.observer=new r((function(t){e.pageData.push({mutations:t,startTime:n.now()})})),this.observer.observe(document,{childList:!0,subtree:!0})}catch(i){console.log(\"mutationObserver err\")}}else this.disableMutaObserver=!0}}},t[e].run())}()\n",
      "  </script>\n",
      "  <script crossorigin=\"anonymous\" src=\"https://e.pipi.cn/overseas/yao-0.0.10.js\">\n",
      "  </script>\n",
      "  <script>\n",
      "   Yao.start({project:\"passport\",page:{sample:1}})\n",
      "  </script>\n",
      "  <script>\n",
      "   var isDevMode=JSON.parse(\"false\")\n",
      "  </script>\n",
      "  <script>\n",
      "   Owl.start({project:\"com.sankuai.myfe.passport.frontend\",pageUrl:location.origin+location.pathname,resource:{},devMode:isDevMode,autoCatch:{console:!0}})\n",
      "  </script>\n",
      "  <link href=\"/public/css/verify.fbadfa40.css\" rel=\"stylesheet\"/>\n",
      " </head>\n",
      " <body>\n",
      "  <div id=\"app\">\n",
      "  </div>\n",
      "  <script crossorigin=\"anonymous\" src=\"//s0.meituan.net/bs/knb/v1.8.3/knb.js\">\n",
      "  </script>\n",
      "  <script src=\"/public/js/verify.fca072.js\" type=\"text/javascript\">\n",
      "  </script>\n",
      " </body>\n",
      "</html>\n"
     ]
    }
   ],
   "source": [
    "print(soup.prettify())"
   ]
  },
  {
   "cell_type": "code",
   "execution_count": null,
   "id": "29a30da9-834a-4ba1-be15-65dbe7cca5d0",
   "metadata": {},
   "outputs": [],
   "source": [
    "divs=soup.find_all('',)"
   ]
  }
 ],
 "metadata": {
  "kernelspec": {
   "display_name": "Python 3 (ipykernel)",
   "language": "python",
   "name": "python3"
  },
  "language_info": {
   "codemirror_mode": {
    "name": "ipython",
    "version": 3
   },
   "file_extension": ".py",
   "mimetype": "text/x-python",
   "name": "python",
   "nbconvert_exporter": "python",
   "pygments_lexer": "ipython3",
   "version": "3.8.0"
  }
 },
 "nbformat": 4,
 "nbformat_minor": 5
}
