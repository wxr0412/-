{
 "cells": [
  {
   "cell_type": "code",
   "execution_count": 22,
   "id": "65cb69a4",
   "metadata": {},
   "outputs": [],
   "source": [
    "from selenium import webdriver\n",
    "from time import sleep"
   ]
  },
  {
   "cell_type": "code",
   "execution_count": 31,
   "id": "e165df57",
   "metadata": {},
   "outputs": [],
   "source": [
    "driver = webdriver.Chrome()"
   ]
  },
  {
   "cell_type": "code",
   "execution_count": 32,
   "id": "d32e1dd8",
   "metadata": {},
   "outputs": [],
   "source": [
    "driver.get('http://www.baidu.com')"
   ]
  },
  {
   "cell_type": "code",
   "execution_count": 27,
   "id": "6b8c2bc4",
   "metadata": {},
   "outputs": [
    {
     "name": "stderr",
     "output_type": "stream",
     "text": [
      "/var/folders/zs/fx_2z2p958g76_7y7tn94xp80000gn/T/ipykernel_65811/3416864836.py:1: DeprecationWarning: find_element_by_xpath is deprecated. Please use find_element(by=By.XPATH, value=xpath) instead\n",
      "  a = driver.find_element_by_xpath('//div[@id = \"s-top-left\"]/a[1]')\n"
     ]
    }
   ],
   "source": [
    "a = driver.find_element_by_xpath('//div[@id = \"s-top-left\"]/a[1]')"
   ]
  },
  {
   "cell_type": "code",
   "execution_count": 28,
   "id": "8c7925dd",
   "metadata": {},
   "outputs": [],
   "source": [
    "a.click()"
   ]
  },
  {
   "cell_type": "code",
   "execution_count": 21,
   "id": "befc1249",
   "metadata": {},
   "outputs": [
    {
     "data": {
      "text/plain": [
       "'https://www.baidu.com/'"
      ]
     },
     "execution_count": 21,
     "metadata": {},
     "output_type": "execute_result"
    }
   ],
   "source": [
    "driver.current_url"
   ]
  },
  {
   "cell_type": "code",
   "execution_count": 29,
   "id": "f03b8406",
   "metadata": {},
   "outputs": [],
   "source": [
    "win = driver.window_handles\n",
    "driver.switch_to.window(win[1])"
   ]
  },
  {
   "cell_type": "code",
   "execution_count": 23,
   "id": "91570bc4",
   "metadata": {},
   "outputs": [
    {
     "data": {
      "text/plain": [
       "'http://news.baidu.com/'"
      ]
     },
     "execution_count": 23,
     "metadata": {},
     "output_type": "execute_result"
    }
   ],
   "source": [
    "driver.current_url"
   ]
  },
  {
   "cell_type": "code",
   "execution_count": 34,
   "id": "c84a8d0b",
   "metadata": {},
   "outputs": [
    {
     "name": "stderr",
     "output_type": "stream",
     "text": [
      "/var/folders/zs/fx_2z2p958g76_7y7tn94xp80000gn/T/ipykernel_65811/1459931849.py:1: DeprecationWarning: find_element_by_* commands are deprecated. Please use find_element() instead\n",
      "  kw = driver.find_element_by_id('kw')\n"
     ]
    },
    {
     "data": {
      "text/plain": [
       "<selenium.webdriver.remote.webelement.WebElement (session=\"caa3a12c5fa0387ec8c3c3ae271a655f\", element=\"10681d6a-c609-47c3-b273-a0c395eace43\")>"
      ]
     },
     "execution_count": 34,
     "metadata": {},
     "output_type": "execute_result"
    }
   ],
   "source": [
    "kw = driver.find_element_by_id('kw')\n",
    "kw"
   ]
  },
  {
   "cell_type": "code",
   "execution_count": 35,
   "id": "748e10e4",
   "metadata": {},
   "outputs": [],
   "source": [
    "kw.send_keys('Python')"
   ]
  },
  {
   "cell_type": "code",
   "execution_count": 36,
   "id": "1c831529",
   "metadata": {},
   "outputs": [
    {
     "name": "stderr",
     "output_type": "stream",
     "text": [
      "/var/folders/zs/fx_2z2p958g76_7y7tn94xp80000gn/T/ipykernel_65811/3507054344.py:1: DeprecationWarning: find_element_by_* commands are deprecated. Please use find_element() instead\n",
      "  su = driver.find_element_by_id('su')\n"
     ]
    }
   ],
   "source": [
    "su = driver.find_element_by_id('su')"
   ]
  },
  {
   "cell_type": "code",
   "execution_count": 37,
   "id": "7f01721e",
   "metadata": {},
   "outputs": [],
   "source": [
    "su.click()"
   ]
  },
  {
   "cell_type": "code",
   "execution_count": 38,
   "id": "80c08bde",
   "metadata": {},
   "outputs": [
    {
     "name": "stderr",
     "output_type": "stream",
     "text": [
      "/var/folders/zs/fx_2z2p958g76_7y7tn94xp80000gn/T/ipykernel_65811/1733323100.py:1: DeprecationWarning: find_elements_by_tag_name is deprecated. Please use find_elements(by=By.TAG_NAME, value=name) instead\n",
      "  h3_list = driver.find_elements_by_tag_name('h3')\n"
     ]
    }
   ],
   "source": [
    "h3_list = driver.find_elements_by_tag_name('h3')"
   ]
  },
  {
   "cell_type": "code",
   "execution_count": 41,
   "id": "c1545be8",
   "metadata": {},
   "outputs": [
    {
     "name": "stdout",
     "output_type": "stream",
     "text": [
      "python-飞桨PaddlePaddle-开源深度学习平台名企\n",
      "python自动化入门-零基础,Python大数据开发一站式学习\n",
      "python与人工智能编程,python+人工智能课,上市机构!\n",
      "python和java哪个好 前景怎样-python和java哪个好难不难\n",
      "Welcome to Python.org 官方\n",
      "Python(计算机编程语言) - 百度百科\n",
      "阿里云官网-注册免费学-零基础学python\n",
      "python安装教程 - 相关博客 - 开发者搜索\n",
      "达内-Python培训 血拼120天=2年工作经验+高薪就业 名额限时抢\n",
      "Python - 视频大全 - 高清在线观看\n",
      "Python 基础教程 | 菜鸟教程\n",
      "Python Releases for Windows | Python.org\n",
      "Python教程 - 廖雪峰的官方网站\n",
      "python - 百度翻译\n",
      "Python 环境搭建 | 菜鸟教程\n"
     ]
    }
   ],
   "source": [
    "for h3 in h3_list:\n",
    "    print(h3.text)#输出文字的方式"
   ]
  },
  {
   "cell_type": "code",
   "execution_count": 60,
   "id": "829bec7d",
   "metadata": {},
   "outputs": [
    {
     "name": "stderr",
     "output_type": "stream",
     "text": [
      "/var/folders/zs/fx_2z2p958g76_7y7tn94xp80000gn/T/ipykernel_65811/3493949590.py:2: DeprecationWarning: find_elements_by_class_name is deprecated. Please use find_elements(by=By.CLASS_NAME, value=name) instead\n",
      "  nextpage = driver.find_elements_by_class_name('n')[-1]#对于第一页可以这样，但是第二页开始class='n'的有上一页和下一页两个，需要点击driver.find_elements_by_class_name('n')[0]\n"
     ]
    }
   ],
   "source": [
    "driver.execute_script('window.scrollTo(0,document.body.scrollHeight)')\n",
    "nextpage = driver.find_elements_by_class_name('n')[-1]#改为-1是因为到了第二页时候，class='n'的有两个，一个是上一页，一个是下一页，所以定位倒数第一个即是下一页\n",
    "nextpage.click()"
   ]
  },
  {
   "cell_type": "code",
   "execution_count": 63,
   "id": "552198ff",
   "metadata": {},
   "outputs": [],
   "source": [
    "driver.quit()"
   ]
  },
  {
   "cell_type": "markdown",
   "id": "964e8dcc",
   "metadata": {},
   "source": [
    "## 京东爬取例子"
   ]
  },
  {
   "cell_type": "code",
   "execution_count": 25,
   "id": "a00842d5",
   "metadata": {},
   "outputs": [],
   "source": [
    "import sys\n",
    "keyword='iphone'\n",
    "#if len(sys.argv) > 1:\n",
    "#    keyword = sys.argv[1]\n",
    "\n",
    "driver = webdriver.Chrome() \n",
    "driver.get('https://www.jd.com/')"
   ]
  },
  {
   "cell_type": "code",
   "execution_count": 16,
   "id": "91160329",
   "metadata": {},
   "outputs": [],
   "source": [
    "from selenium.webdriver.common.keys import Keys"
   ]
  },
  {
   "cell_type": "code",
   "execution_count": 26,
   "id": "bcdcb2c8",
   "metadata": {},
   "outputs": [
    {
     "name": "stderr",
     "output_type": "stream",
     "text": [
      "/var/folders/zs/fx_2z2p958g76_7y7tn94xp80000gn/T/ipykernel_82582/2173398258.py:1: DeprecationWarning: find_element_by_* commands are deprecated. Please use find_element() instead\n",
      "  kw = driver.find_element_by_id('key')\n"
     ]
    }
   ],
   "source": [
    "kw = driver.find_element_by_id('key')\n",
    "kw.send_keys(keyword)\n",
    "kw.send_keys(Keys.RETURN)#回车键"
   ]
  },
  {
   "cell_type": "code",
   "execution_count": 27,
   "id": "20d31db8",
   "metadata": {},
   "outputs": [
    {
     "name": "stderr",
     "output_type": "stream",
     "text": [
      "/var/folders/zs/fx_2z2p958g76_7y7tn94xp80000gn/T/ipykernel_82582/4052374337.py:2: DeprecationWarning: find_element_by_xpath is deprecated. Please use find_element(by=By.XPATH, value=xpath) instead\n",
      "  sort_btn = driver.find_element_by_xpath('.//div[@class=\"f-sort\"]/a[2]')\n"
     ]
    }
   ],
   "source": [
    "#点击按销量排序\n",
    "sort_btn = driver.find_element_by_xpath('.//div[@class=\"f-sort\"]/a[2]')\n",
    "sort_btn.click()"
   ]
  },
  {
   "cell_type": "code",
   "execution_count": 29,
   "id": "f6508566",
   "metadata": {},
   "outputs": [
    {
     "name": "stderr",
     "output_type": "stream",
     "text": [
      "/var/folders/zs/fx_2z2p958g76_7y7tn94xp80000gn/T/ipykernel_82582/4155893987.py:1: DeprecationWarning: find_elements_by_class_name is deprecated. Please use find_elements(by=By.CLASS_NAME, value=name) instead\n",
      "  products = driver.find_elements_by_class_name('gl-item')\n",
      "/var/folders/zs/fx_2z2p958g76_7y7tn94xp80000gn/T/ipykernel_82582/4155893987.py:17: DeprecationWarning: find_element_by_class_name is deprecated. Please use find_element(by=By.CLASS_NAME, value=name) instead\n",
      "  sort_next_page = driver.find_element_by_class_name('pn-next')\n",
      "/var/folders/zs/fx_2z2p958g76_7y7tn94xp80000gn/T/ipykernel_82582/4155893987.py:20: DeprecationWarning: find_elements_by_class_name is deprecated. Please use find_elements(by=By.CLASS_NAME, value=name) instead\n",
      "  products = driver.find_elements_by_class_name('gl-item')\n"
     ]
    }
   ],
   "source": [
    "products = driver.find_elements_by_class_name('gl-item')\n",
    "row = []\n",
    "for p in products:\n",
    "    sku = p.get_attribute('data-sku')\n",
    "    price = p.find_element_by_class_name('J_%s'%sku).text\n",
    "    pname = p.find_element_by_xpath('.//div[@class = \"p-name p-name-type-2\"]/a/em').text\n",
    "    pshop = p.find_element_by_xpath('.//div[@class=\"p-shop\"]').text\n",
    "    \n",
    "    data = {\n",
    "        'name':pname,\n",
    "        'price':price,\n",
    "        'shop':pshop\n",
    "        \n",
    "    }\n",
    "    row.append(data)\n",
    "for i in range(1,11):\n",
    "    sort_next_page = driver.find_element_by_class_name('pn-next')\n",
    "    sort_next_page.click()\n",
    "    sleep(2)\n",
    "    products = driver.find_elements_by_class_name('gl-item')\n",
    "    for p in products:\n",
    "        sku = p.get_attribute('data-sku')\n",
    "        price = p.find_element_by_class_name('J_%s'%sku).text\n",
    "        pname = p.find_element_by_xpath('.//div[@class = \"p-name p-name-type-2\"]/a/em').text\n",
    "        pshop = p.find_element_by_xpath('.//div[@class=\"p-shop\"]').text\n",
    "        data = {\n",
    "            'name':pname,\n",
    "            'price':price,\n",
    "            'shop':pshop\n",
    "        }\n",
    "        row.append(data)"
   ]
  },
  {
   "cell_type": "code",
   "execution_count": 30,
   "id": "ae626838",
   "metadata": {},
   "outputs": [
    {
     "data": {
      "text/html": [
       "<div>\n",
       "<style scoped>\n",
       "    .dataframe tbody tr th:only-of-type {\n",
       "        vertical-align: middle;\n",
       "    }\n",
       "\n",
       "    .dataframe tbody tr th {\n",
       "        vertical-align: top;\n",
       "    }\n",
       "\n",
       "    .dataframe thead th {\n",
       "        text-align: right;\n",
       "    }\n",
       "</style>\n",
       "<table border=\"1\" class=\"dataframe\">\n",
       "  <thead>\n",
       "    <tr style=\"text-align: right;\">\n",
       "      <th></th>\n",
       "      <th>name</th>\n",
       "      <th>price</th>\n",
       "      <th>shop</th>\n",
       "    </tr>\n",
       "  </thead>\n",
       "  <tbody>\n",
       "    <tr>\n",
       "      <th>0</th>\n",
       "      <td>Apple iPhone 13 (A2634) 256GB 星光色 支持移动联通电信5G 双...</td>\n",
       "      <td>￥6799.00</td>\n",
       "      <td>Apple产品京东自营旗舰店</td>\n",
       "    </tr>\n",
       "    <tr>\n",
       "      <th>1</th>\n",
       "      <td>Apple iPhone 13 (A2634) 256GB 星光色 支持移动联通电信5G 双...</td>\n",
       "      <td>￥6799.00</td>\n",
       "      <td>中国联通京东自营旗舰店</td>\n",
       "    </tr>\n",
       "    <tr>\n",
       "      <th>2</th>\n",
       "      <td>Apple iPhone 12 (A2404) 256GB 白色 支持移动联通电信5G 双卡...</td>\n",
       "      <td>￥5699.00</td>\n",
       "      <td>Apple产品京东自营旗舰店</td>\n",
       "    </tr>\n",
       "    <tr>\n",
       "      <th>3</th>\n",
       "      <td>Apple iPhone 13 Pro Max (A2644) 256GB 苍岭绿色 支持移...</td>\n",
       "      <td>￥9799.00</td>\n",
       "      <td>Apple产品京东自营旗舰店</td>\n",
       "    </tr>\n",
       "    <tr>\n",
       "      <th>4</th>\n",
       "      <td>京品手机\\nApple iPhone 11 (A2223) 128GB 黑色 移动联通电信4...</td>\n",
       "      <td>￥4199.00</td>\n",
       "      <td>Apple产品京东自营旗舰店</td>\n",
       "    </tr>\n",
       "    <tr>\n",
       "      <th>...</th>\n",
       "      <td>...</td>\n",
       "      <td>...</td>\n",
       "      <td>...</td>\n",
       "    </tr>\n",
       "    <tr>\n",
       "      <th>355</th>\n",
       "      <td>拍拍\\n【二手9新】Apple 苹果11 iphone 11二手手机 大陆国行 二手手机 二...</td>\n",
       "      <td>￥3049.00</td>\n",
       "      <td>原品汇二手商品专营店</td>\n",
       "    </tr>\n",
       "    <tr>\n",
       "      <th>356</th>\n",
       "      <td>拍拍\\n【二手99新】苹果8Plus手机 Apple iPhone 8Plus 苹果8P 二...</td>\n",
       "      <td>￥2199.00</td>\n",
       "      <td>越信二手手机专营店</td>\n",
       "    </tr>\n",
       "    <tr>\n",
       "      <th>357</th>\n",
       "      <td>Apple苹果 iPhone 13 Pro (A2639)支持移动联通电信 双卡双待全网通5...</td>\n",
       "      <td>￥8988.00</td>\n",
       "      <td>OKSJ手机旗舰店</td>\n",
       "    </tr>\n",
       "    <tr>\n",
       "      <th>358</th>\n",
       "      <td>拍拍\\n【二手95新】Apple iPhone 7 苹果7手机 国行 二手手机 磨砂黑 128G</td>\n",
       "      <td>￥868.00</td>\n",
       "      <td>熊猫严选二手商品专营店</td>\n",
       "    </tr>\n",
       "    <tr>\n",
       "      <th>359</th>\n",
       "      <td>拍拍\\n【二手95新】Apple iPhone 11 苹果11 苹果二手手机 移动联通电信全...</td>\n",
       "      <td>￥2899.00</td>\n",
       "      <td>机淘淘二手商品专营店</td>\n",
       "    </tr>\n",
       "  </tbody>\n",
       "</table>\n",
       "<p>360 rows × 3 columns</p>\n",
       "</div>"
      ],
      "text/plain": [
       "                                                  name     price  \\\n",
       "0    Apple iPhone 13 (A2634) 256GB 星光色 支持移动联通电信5G 双...  ￥6799.00   \n",
       "1    Apple iPhone 13 (A2634) 256GB 星光色 支持移动联通电信5G 双...  ￥6799.00   \n",
       "2    Apple iPhone 12 (A2404) 256GB 白色 支持移动联通电信5G 双卡...  ￥5699.00   \n",
       "3    Apple iPhone 13 Pro Max (A2644) 256GB 苍岭绿色 支持移...  ￥9799.00   \n",
       "4    京品手机\\nApple iPhone 11 (A2223) 128GB 黑色 移动联通电信4...  ￥4199.00   \n",
       "..                                                 ...       ...   \n",
       "355  拍拍\\n【二手9新】Apple 苹果11 iphone 11二手手机 大陆国行 二手手机 二...  ￥3049.00   \n",
       "356  拍拍\\n【二手99新】苹果8Plus手机 Apple iPhone 8Plus 苹果8P 二...  ￥2199.00   \n",
       "357  Apple苹果 iPhone 13 Pro (A2639)支持移动联通电信 双卡双待全网通5...  ￥8988.00   \n",
       "358   拍拍\\n【二手95新】Apple iPhone 7 苹果7手机 国行 二手手机 磨砂黑 128G   ￥868.00   \n",
       "359  拍拍\\n【二手95新】Apple iPhone 11 苹果11 苹果二手手机 移动联通电信全...  ￥2899.00   \n",
       "\n",
       "               shop  \n",
       "0    Apple产品京东自营旗舰店  \n",
       "1       中国联通京东自营旗舰店  \n",
       "2    Apple产品京东自营旗舰店  \n",
       "3    Apple产品京东自营旗舰店  \n",
       "4    Apple产品京东自营旗舰店  \n",
       "..              ...  \n",
       "355      原品汇二手商品专营店  \n",
       "356       越信二手手机专营店  \n",
       "357       OKSJ手机旗舰店  \n",
       "358     熊猫严选二手商品专营店  \n",
       "359      机淘淘二手商品专营店  \n",
       "\n",
       "[360 rows x 3 columns]"
      ]
     },
     "execution_count": 30,
     "metadata": {},
     "output_type": "execute_result"
    }
   ],
   "source": [
    "import pandas as pd\n",
    "data = pd.DataFrame(row)\n",
    "data"
   ]
  },
  {
   "cell_type": "code",
   "execution_count": 38,
   "id": "89782be9",
   "metadata": {},
   "outputs": [],
   "source": [
    "data.to_excel(\"jd_iphone.xlsx\",encoding='utf-8')"
   ]
  },
  {
   "cell_type": "code",
   "execution_count": 39,
   "id": "b795ac72",
   "metadata": {},
   "outputs": [],
   "source": [
    "driver.quit()"
   ]
  }
 ],
 "metadata": {
  "kernelspec": {
   "display_name": "Python 3 (ipykernel)",
   "language": "python",
   "name": "python3"
  },
  "language_info": {
   "codemirror_mode": {
    "name": "ipython",
    "version": 3
   },
   "file_extension": ".py",
   "mimetype": "text/x-python",
   "name": "python",
   "nbconvert_exporter": "python",
   "pygments_lexer": "ipython3",
   "version": "3.8.0"
  }
 },
 "nbformat": 4,
 "nbformat_minor": 5
}
